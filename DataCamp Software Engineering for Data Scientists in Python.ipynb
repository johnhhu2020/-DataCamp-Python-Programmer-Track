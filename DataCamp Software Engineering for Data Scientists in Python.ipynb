{
 "cells": [
  {
   "cell_type": "markdown",
   "id": "cfaa83a6-afce-4562-9c7e-3c4afc231451",
   "metadata": {},
   "source": [
    "## Software Engineering for Data Scientists in Python\n",
    "\n",
    "\n"
   ]
  },
  {
   "cell_type": "markdown",
   "id": "de164c77-4ce2-4bc2-9dc4-a7feec9d4f5c",
   "metadata": {},
   "source": [
    "## Course Description\n",
    "\n",
    "Data scientists can experience huge benefits by learning concepts from the field of software engineering, allowing them to more easily reutilize their code and share it with collaborators. In this course, you'll learn all about the important ideas of modularity, documentation, & automated testing, and you'll see how they can help you solve Data Science problems quicker and in a way that will make future you happy. You'll even get to use your acquired software engineering chops to write your very own Python package for performing text analytics."
   ]
  },
  {
   "cell_type": "markdown",
   "id": "804bad5c-709c-4ac0-b489-1293dc2e5f51",
   "metadata": {},
   "source": [
    "##  Software Engineering & Data Science\n",
    "Free\n",
    "0%\n",
    "\n",
    "Why should you as a Data Scientist care about Software Engineering concepts? Here we'll cover specific Software Engineering concepts and how these important ideas can revolutionize your Data Science workflow!\n",
    "\n",
    "    Python, data science, & software engineering    50 xp\n",
    "    The big ideas    50 xp\n",
    "    Python modularity in the wild    100 xp\n",
    "    Introduction to packages & documentation    50 xp\n",
    "    Installing packages with pip    50 xp\n",
    "    Leveraging documentation    100 xp\n",
    "    Conventions and PEP 8    50 xp\n",
    "    Using pycodestyle    100 xp\n",
    "    Conforming to PEP 8    100 xp\n",
    "    PEP 8 in documentation    100 xp\n"
   ]
  },
  {
   "cell_type": "markdown",
   "id": "e98921ae-b777-4ea3-b441-e6a6bc9cf37e",
   "metadata": {},
   "source": [
    "##  Writing a Python Module\n",
    "0%\n",
    "\n",
    "Become a fully fledged Python package developer by writing your first package! You'll learn how to structure and write Python code that you can be installed, used, and distributed just like famous packages such as NumPy and Pandas.\n",
    "\n",
    "    Writing your first package    50 xp\n",
    "    Minimal package requirements    50 xp\n",
    "    Naming packages    100 xp\n",
    "    Recognizing packages    100 xp\n",
    "    Adding functionality to packages    50 xp\n",
    "    Adding functionality to your package    100 xp\n",
    "    Using your package's new functionality    100 xp\n",
    "    Making your package portable    50 xp\n",
    "    Writing requirements.txt    100 xp\n",
    "    Installing package requirements    50 xp\n",
    "    Creating setup.py    100 xp\n",
    "    Listing requirements in setup.py    100 xp\n"
   ]
  },
  {
   "cell_type": "markdown",
   "id": "b8c7e497-6de2-463e-b57e-77e86fcc15c9",
   "metadata": {},
   "source": [
    "##  Utilizing Classes\n",
    "0%\n",
    "\n",
    "Object Oriented Programming is a staple of Python development. By leveraging classes and inheritance your Python package will become a much more powerful tool for your users.\n",
    "\n",
    "    Adding classes to a package    50 xp\n",
    "    Writing a class for your package    100 xp\n",
    "    Using your package's class    100 xp\n",
    "    Adding functionality to classes    50 xp\n",
    "    Writing a non-public method    100 xp\n",
    "    Using your class's functionality    100 xp\n",
    "    Classes and the DRY principle    50 xp\n",
    "    Using inheritance to create a class    100 xp\n",
    "    Adding functionality to a child class    100 xp\n",
    "    Using your child class    100 xp\n",
    "    Multilevel inheritance    50 xp\n",
    "    Exploring with dir and help    100 xp\n",
    "    Creating a grandchild class    100 xp\n",
    "    Using inherited methods    100 xp\n"
   ]
  },
  {
   "cell_type": "markdown",
   "id": "bd7beea6-2cdf-4a74-af25-906279bdc7d5",
   "metadata": {},
   "source": [
    "##  Maintainability\n",
    "0%\n",
    "\n",
    "You've now written a fully functional Python package for text analysis! To make maintaining your project as easy as possible we'll leverage best practices around concepts such as documentation and unit testing.\n",
    "\n",
    "    Documentation    50 xp\n",
    "    Identifying good comments    100 xp\n",
    "    Identifying proper docstrings    100 xp\n",
    "    Writing docstrings    100 xp\n",
    "    Readability counts    50 xp\n",
    "    Using good function names    100 xp\n",
    "    Using good variable names    100 xp\n",
    "    Refactoring for readability    100 xp\n",
    "    Unit testing    50 xp\n",
    "    Using doctest    100 xp\n",
    "    Using pytest    100 xp\n",
    "    Documentation & testing in practice    50 xp\n",
    "    Documenting classes for Sphinx    100 xp\n",
    "    Identifying tools    50 xp\n",
    "    Final Thoughts    50 xp \n",
    "    "
   ]
  },
  {
   "cell_type": "code",
   "execution_count": null,
   "id": "a1cd98d7-4bd1-489b-95dc-869b74bab5eb",
   "metadata": {},
   "outputs": [],
   "source": []
  },
  {
   "cell_type": "markdown",
   "id": "96f6e84b-1d18-43fa-aad6-4e5e2a275ae1",
   "metadata": {},
   "source": [
    "## Python, data science, & software engineering\n",
    "\n",
    "\n",
    "\n",
    "\n",
    "\n",
    "**Welcome to the course \"Software Engineering for Data Scientists in Python\".  My name is Adam Spannbauer.  I'm a Data Scientist from Tennessee who likes to code in both R and Python.  \n",
    "\n",
    "\n",
    "# *******************************************************************************************************************\n",
    "In this course, we'll be covering aoftware engineering concepts that can revolutioniza your Data Science workflow.  SO why should a Data Scientistcare about the principles of Software Engineering?  Many Data Scientists, like myself, start in the world of math & statistics.  And soon after, you learn that communicating these technical ideals is just as important as understanding them yourself.  However, many Data Scientists are self-taught programmers who see coding as a means to an end; its just a step to create a model or run a simulation.  But in reality, SOftware Engineering is a valuable skill that needs to be learned and practiced.  \n",
    "# *******************************************************************************************************************\n",
    "\n",
    "This course will help you buildyour software engineering skills by introducing some very important concepts.  Three topics in particular that we'll coverare Modularity, Documentation, and Testing.  \n",
    "\n",
    "Another topic worth mentioning is Version Control.  We won't be covering it in this course, but I recommend checking out the related DataCamp course to learn more about this powerful tool.  \n",
    "\n",
    "\n",
    "Lets define each of these comcepts that we'll be covering.  First was Modularity.  To introduce modular code lets start by defining what its not.  Non-modular code can take the form of long, complicated, hard to read script and functions.  Programming becomes less complex when your code is divided into shorter functional units, and this is the whole idea behind modularity.  \n",
    "\n",
    "With modular code, not only does code become more readable but it becomes easier to fix when something breaks.  Additionally, modular code is easier to take along with you to your next project; which allows you to save time by avoiding re-solving problems you've already solved in a previous project.  \n",
    "\n",
    "We can write modular code in Python by leveraging packages, classes, and mothods.  In below example code, we import Pandas package.  We create a new object using the powerful DataFramme class from Pandas.  Finally, we use the convenient plot method that comes built into the DataFrame class.  Later in this course, you'll write a fully functional Python package using all these concepts to perform text analysis.  \n",
    "\n",
    "\n",
    "If you work on a team or if you ever publish a project, then other people will need to read your code, and sometimes, the other person is just future you.  Both future you and other people will have an easier time reading your project if you use a good documentation practices.  \n",
    "\n",
    "In this course, we'll cover how to use \"comments\", \"docstrings\", and \"self-documenting code\" to document your Data Science Python projects.  A project using all these techniques can save a lot of confusion and frustration for everyone who touches the code.  \n",
    "\n",
    "The last Software Engineering concept we'll touch on is Testing.  One thing everyone learns is that people make mistakes.  That's why pencils have erasers, why computers have spellcheck, and why software needs tests.  Often times Data Scientists will write some code, test it in the console once, and then never test it again.  Its definitely worthwhile to perform these manual texts, but leveraging tools like the \"pytest\" package can automatically run and re-run your tests to ensure your code is working as intended even after new functionality.  \n",
    "\n"
   ]
  },
  {
   "cell_type": "code",
   "execution_count": 1,
   "id": "99bcf22d-004b-4c16-85a7-82c30a40a969",
   "metadata": {},
   "outputs": [
    {
     "data": {
      "text/plain": [
       "<AxesSubplot:xlabel='x'>"
      ]
     },
     "execution_count": 1,
     "metadata": {},
     "output_type": "execute_result"
    },
    {
     "data": {
      "image/png": "[encoded data removed]",
      "text/plain": [
       "<Figure size 432x288 with 1 Axes>"
      ]
     },
     "metadata": {
      "needs_background": "light"
     },
     "output_type": "display_data"
    }
   ],
   "source": [
    "import pandas as pd\n",
    "\n",
    "data = {'x': [1, 2, 3, 4], \n",
    "        'y': [20.1, 62.5, 34.8, 42.7]}\n",
    "\n",
    "df = pd.DataFrame(data)\n",
    "\n",
    "df.plot('x', 'y')"
   ]
  },
  {
   "cell_type": "markdown",
   "id": "4fc3a9a4-a20c-4c9c-9dfd-768663611e0f",
   "metadata": {},
   "source": [
    "## The big ideas\n",
    "\n",
    "Which 3 software engineering concepts included in this course can help Data Scientists save time, collaborate, and write better code?\n",
    "Answer the question\n",
    "50XP\n",
    "Possible Answers\n",
    "\n",
    "    Big Data, Machine Learning, & Algorithms\n",
    "    press\n",
    "    1\n",
    "#    Modularity, Documentation, & Automated Testing\n",
    "    press\n",
    "    2\n",
    "    R, Python, & SQL\n",
    "    press\n",
    "    3\n",
    "    Google, StackOverflow, & Luck\n",
    "    press\n",
    "    4"
   ]
  },
  {
   "cell_type": "markdown",
   "id": "0cd980dc-0f3e-4b4e-bec8-5a2ccd7c5cf7",
   "metadata": {},
   "source": [
    "## Python modularity in the wild\n",
    "\n",
    "In the slides, we covered 3 ways that you can write modular code with Python: packages, classes, and methods. For reference, you can see the example code we reviewed below.\n",
    "\n",
    "# Import the pandas PACKAGE\n",
    "import pandas as pd\n",
    "\n",
    "# Create some example data\n",
    "data = {'x': [1, 2, 3, 4], \n",
    "        'y': [20.1, 62.5, 34.8, 42.7]}\n",
    "\n",
    "# Create a dataframe CLASS object\n",
    "df = pd.DataFrame(data)\n",
    "\n",
    "# Use the plot METHOD\n",
    "df.plot('x', 'y')\n",
    "\n",
    "In this exercise, you'll utilize a class & a method from the popular package numpy.\n",
    "Instructions\n",
    "100 XP\n",
    "\n",
    "#    Complete the import statement to load the numpy package.\n",
    "#    Use numpy's array class to define arr.\n",
    "#    Use arr's \".sort()\" method to sort the numpy array.\n",
    "\n"
   ]
  },
  {
   "cell_type": "code",
   "execution_count": null,
   "id": "6a7000d4-eded-46ea-9e73-64ce2f78fb9d",
   "metadata": {},
   "outputs": [],
   "source": [
    "import numpy as np\n",
    "\n",
    "\n",
    "# import the numpy package\n",
    "import ____ as np\n",
    "\n",
    "# create an array class object\n",
    "arr = np.____([8, 6, 7, 5, 3, 0, 9])\n",
    "\n",
    "# use the sort method\n",
    "arr.____()\n",
    "\n",
    "# print the sorted array\n",
    "print(arr)\n"
   ]
  },
  {
   "cell_type": "markdown",
   "id": "cf4b0631-9539-49f5-abfc-686007a81d3e",
   "metadata": {},
   "source": [
    "## Introduction to packages & documentation\n",
    "\n",
    "\n",
    "\n",
    "\n",
    "\n",
    "**You've now learned some important Software Engineering concepts.  We're now going to \n",
    "\n",
    "\n"
   ]
  },
  {
   "cell_type": "code",
   "execution_count": null,
   "id": "cdce76d5-29e3-413f-a1f7-4e59f0d06eef",
   "metadata": {},
   "outputs": [],
   "source": []
  },
  {
   "cell_type": "code",
   "execution_count": null,
   "id": "efc9e95c-32f1-4b9c-997f-a4740224c63a",
   "metadata": {},
   "outputs": [],
   "source": []
  },
  {
   "cell_type": "code",
   "execution_count": null,
   "id": "171b7a11-4486-4e2d-8144-270026020bd4",
   "metadata": {},
   "outputs": [],
   "source": []
  },
  {
   "cell_type": "code",
   "execution_count": null,
   "id": "a46b7067-eb0c-4496-b6a6-ecc7336a54c4",
   "metadata": {},
   "outputs": [],
   "source": []
  },
  {
   "cell_type": "code",
   "execution_count": null,
   "id": "e8d1ad89-1f75-481f-8c4b-22747b12402d",
   "metadata": {},
   "outputs": [],
   "source": []
  },
  {
   "cell_type": "code",
   "execution_count": null,
   "id": "7cd6bb99-4e6b-4e50-a5a0-ce724fef83e1",
   "metadata": {},
   "outputs": [],
   "source": []
  },
  {
   "cell_type": "code",
   "execution_count": null,
   "id": "818e10c8-cc5a-4dec-9bea-f90f5a2f2c7e",
   "metadata": {},
   "outputs": [],
   "source": []
  },
  {
   "cell_type": "code",
   "execution_count": null,
   "id": "12c82d6b-a660-499d-8194-2cd2114eec2e",
   "metadata": {},
   "outputs": [],
   "source": []
  },
  {
   "cell_type": "code",
   "execution_count": null,
   "id": "c0bb999c-c456-4d59-9c99-9f2750c31d23",
   "metadata": {},
   "outputs": [],
   "source": []
  },
  {
   "cell_type": "code",
   "execution_count": null,
   "id": "0be43356-57ed-49a3-8ad1-d085a2385260",
   "metadata": {},
   "outputs": [],
   "source": []
  },
  {
   "cell_type": "code",
   "execution_count": null,
   "id": "bf4f9259-2863-4fa6-aea8-7fc58a4787b5",
   "metadata": {},
   "outputs": [],
   "source": []
  },
  {
   "cell_type": "code",
   "execution_count": null,
   "id": "09388498-4191-48f3-b8b4-6ce398821e02",
   "metadata": {},
   "outputs": [],
   "source": []
  },
  {
   "cell_type": "code",
   "execution_count": null,
   "id": "5ad7ffe6-6173-40b1-b4ee-b128d978688a",
   "metadata": {},
   "outputs": [],
   "source": []
  },
  {
   "cell_type": "code",
   "execution_count": null,
   "id": "d67d5642-dccd-4dbe-bd67-7e18c54e38aa",
   "metadata": {},
   "outputs": [],
   "source": []
  },
  {
   "cell_type": "code",
   "execution_count": null,
   "id": "8c62206d-f693-457f-92bc-d8c402c5cd6d",
   "metadata": {},
   "outputs": [],
   "source": []
  },
  {
   "cell_type": "code",
   "execution_count": null,
   "id": "b772ebb3-1d66-40b7-a538-6d3a220aa86b",
   "metadata": {},
   "outputs": [],
   "source": []
  },
  {
   "cell_type": "code",
   "execution_count": null,
   "id": "704b277c-aaa1-493c-8d8d-191da5d4149a",
   "metadata": {},
   "outputs": [],
   "source": []
  },
  {
   "cell_type": "code",
   "execution_count": null,
   "id": "9a459668-b00b-46a6-ac4e-b251b9c283b9",
   "metadata": {},
   "outputs": [],
   "source": []
  },
  {
   "cell_type": "code",
   "execution_count": null,
   "id": "f74c1d97-358a-4550-90c0-8912cc10035c",
   "metadata": {},
   "outputs": [],
   "source": []
  },
  {
   "cell_type": "code",
   "execution_count": null,
   "id": "e7480d74-8c97-46d0-9d66-11d9410f400c",
   "metadata": {},
   "outputs": [],
   "source": []
  },
  {
   "cell_type": "code",
   "execution_count": null,
   "id": "69daac66-b2f4-4832-a702-b28b98c19d21",
   "metadata": {},
   "outputs": [],
   "source": []
  },
  {
   "cell_type": "code",
   "execution_count": null,
   "id": "15e8994b-ebcc-47fc-aa0f-e60b7b12211c",
   "metadata": {},
   "outputs": [],
   "source": []
  },
  {
   "cell_type": "code",
   "execution_count": null,
   "id": "d6ef46cc-3e9f-4a80-9768-34ba6be0bfea",
   "metadata": {},
   "outputs": [],
   "source": []
  },
  {
   "cell_type": "code",
   "execution_count": null,
   "id": "279c453d-fb22-4be3-a306-81666e05d4fe",
   "metadata": {},
   "outputs": [],
   "source": []
  },
  {
   "cell_type": "code",
   "execution_count": null,
   "id": "bb57aec7-73cc-469f-8262-c0bb191eae40",
   "metadata": {},
   "outputs": [],
   "source": []
  },
  {
   "cell_type": "code",
   "execution_count": null,
   "id": "c9e3c2ba-35e7-492f-ac6b-879e532143b5",
   "metadata": {},
   "outputs": [],
   "source": []
  },
  {
   "cell_type": "code",
   "execution_count": null,
   "id": "2bf544ca-ed06-4877-968e-a00d13d92324",
   "metadata": {},
   "outputs": [],
   "source": []
  },
  {
   "cell_type": "code",
   "execution_count": null,
   "id": "635e1755-b9d6-49cd-ae26-7f8e921b5453",
   "metadata": {},
   "outputs": [],
   "source": []
  },
  {
   "cell_type": "code",
   "execution_count": null,
   "id": "b748c53b-509e-4f93-afa9-eae43dc9eca1",
   "metadata": {},
   "outputs": [],
   "source": []
  },
  {
   "cell_type": "code",
   "execution_count": null,
   "id": "8293842a-14a6-4b8e-8eec-3166262af816",
   "metadata": {},
   "outputs": [],
   "source": []
  },
  {
   "cell_type": "code",
   "execution_count": null,
   "id": "9b668f7b-a036-48a5-befe-c84301908109",
   "metadata": {},
   "outputs": [],
   "source": []
  },
  {
   "cell_type": "code",
   "execution_count": null,
   "id": "2b95d387-01bb-49d3-83f3-643328191384",
   "metadata": {},
   "outputs": [],
   "source": []
  }
 ],
 "metadata": {
  "kernelspec": {
   "display_name": "Python 3 (ipykernel)",
   "language": "python",
   "name": "python3"
  },
  "language_info": {
   "codemirror_mode": {
    "name": "ipython",
    "version": 3
   },
   "file_extension": ".py",
   "mimetype": "text/x-python",
   "name": "python",
   "nbconvert_exporter": "python",
   "pygments_lexer": "ipython3",
   "version": "3.9.2"
  }
 },
 "nbformat": 4,
 "nbformat_minor": 5
}
